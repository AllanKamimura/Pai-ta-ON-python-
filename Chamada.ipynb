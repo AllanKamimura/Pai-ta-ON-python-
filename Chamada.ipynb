{
  "nbformat": 4,
  "nbformat_minor": 0,
  "metadata": {
    "colab": {
      "name": "Chamada.ipynb",
      "provenance": [],
      "collapsed_sections": [],
      "authorship_tag": "ABX9TyMXhYXBl5pioo3eNsp/irDS",
      "include_colab_link": true
    },
    "kernelspec": {
      "name": "python3",
      "display_name": "Python 3"
    }
  },
  "cells": [
    {
      "cell_type": "markdown",
      "metadata": {
        "id": "view-in-github",
        "colab_type": "text"
      },
      "source": [
        "<a href=\"https://colab.research.google.com/github/AllanKamimura/Pai_ta_ON_python/blob/main/Chamada.ipynb\" target=\"_parent\"><img src=\"https://colab.research.google.com/assets/colab-badge.svg\" alt=\"Open In Colab\"/></a>"
      ]
    },
    {
      "cell_type": "code",
      "metadata": {
        "id": "CqVWbPInOiWZ",
        "cellView": "form"
      },
      "source": [
        "#@markdown #Nomes em ordem alfabética\n",
        "#@markdown ---\n",
        "#@markdown ###Como utilizar: \n",
        "#@markdown 1.   No meets, copie todo o chat e cole em um bloco de notas\n",
        "#@markdown 2.   Aqui, clique no botão play do lado do título\n",
        "#@markdown 3.   Espere 10 segundos para o programa iniciar\n",
        "#@markdown 4.   Clique em no botão \"Fazer upload\" (no fim do texto) e selecione o arquivo\n",
        "#@markdown ---\n",
        "\n",
        "import re\n",
        "from google.colab import files\n",
        "\n",
        "uploaded = files.upload()\n",
        "\n",
        "for arquivo in uploaded.keys():\n",
        "    presenca = {}\n",
        "    infile = open(arquivo, \"r\", encoding = \"latin-1\", errors='ignore') \n",
        "    outfile = open(\"alfabetico \" + arquivo, \"w\")\n",
        "    chat_log = infile.read()\n",
        "    nomes = re.findall(\"([^\\n]+)[\\n]\\d\\d:\\d\\d[\\n]\", chat_log)\n",
        "    for nome in nomes:\n",
        "        if not nome[0].isupper():\n",
        "            nome = nome.title()\n",
        "        if nome not in presenca:\n",
        "            presenca[nome] = 0\n",
        "        else:\n",
        "            presenca[nome] += 1\n",
        "    top = sorted(presenca.items(), key=lambda x: x[0])\n",
        "    print(\"------------------\")\n",
        "    print(\"total de alunos: {}\".format(len(top)))\n",
        "    for nome in top:\n",
        "        outfile.write(nome[0] + \"\\n\")\n",
        "        print(nome[0])\n",
        "    infile.close()\n",
        "    outfile.close()\n",
        "    print(\"------------------\")\n",
        "\n",
        "    print(\"Arquivo {} criado com sucesso.\".format(\"alfabetico \" + arquivo))\n",
        "\n"
      ],
      "execution_count": null,
      "outputs": []
    }
  ]
}